{
 "cells": [
  {
   "cell_type": "code",
   "execution_count": 57,
   "metadata": {},
   "outputs": [],
   "source": [
    "import os\n",
    "from bs4 import BeautifulSoup\n",
    "import re\n",
    "import pandas as pd"
   ]
  },
  {
   "cell_type": "code",
   "execution_count": 2,
   "metadata": {},
   "outputs": [],
   "source": [
    "def unfuck(raw_html):\n",
    "    raw_html = str(raw_html)\n",
    "    cleanr = re.compile('<.*?>')\n",
    "    cleantext = re.sub(cleanr, ' ', raw_html)\n",
    "    return cleantext.replace('\\t', '').replace('\\n', '').strip(' ')"
   ]
  },
  {
   "cell_type": "code",
   "execution_count": 77,
   "metadata": {},
   "outputs": [],
   "source": [
    "out = []"
   ]
  },
  {
   "cell_type": "code",
   "execution_count": 78,
   "metadata": {},
   "outputs": [],
   "source": [
    "for file in os.listdir('./scratch/'):\n",
    "    soup = BeautifulSoup(open('./scratch/' + file, encoding='utf-8'), 'html.parser')\n",
    "    \n",
    "    ks = ['tmp', 'REDIZO', 'nazev', 'typ']\n",
    "    keys = list(map(unfuck, soup.find('thead').find_all('th')[2:]))\n",
    "    ks.extend(keys)\n",
    "    for row in soup.find_all('tr'):\n",
    "        x = row.find('td', text=re.compile('REDIZO'))\n",
    "        if x != None:\n",
    "            tmp = []\n",
    "            rw = x.parent.find_all('td')\n",
    "            for r in rw:\n",
    "                tmp.append(r.text)\n",
    "            out.append(dict(zip(ks, tmp)))"
   ]
  },
  {
   "cell_type": "code",
   "execution_count": 81,
   "metadata": {},
   "outputs": [],
   "source": [
    "dta = pd.DataFrame.from_dict(out)"
   ]
  },
  {
   "cell_type": "code",
   "execution_count": 84,
   "metadata": {},
   "outputs": [],
   "source": [
    "def nabodenicka_pdp(val):\n",
    "    return val.replace(',', '.')"
   ]
  },
  {
   "cell_type": "code",
   "execution_count": 86,
   "metadata": {},
   "outputs": [],
   "source": [
    "dta = dta.applymap(nabodenicka_pdp)"
   ]
  },
  {
   "cell_type": "code",
   "execution_count": 87,
   "metadata": {},
   "outputs": [],
   "source": [
    "ne = ['nazev', 'tmp', 'typ']\n",
    "for col in dta.columns:\n",
    "    if col not in  ne:\n",
    "        dta[col] = pd.to_numeric(dta[col], errors = 'coerce')"
   ]
  },
  {
   "cell_type": "code",
   "execution_count": 92,
   "metadata": {},
   "outputs": [],
   "source": [
    "dta.drop_duplicates(inplace=True)"
   ]
  },
  {
   "cell_type": "code",
   "execution_count": 93,
   "metadata": {},
   "outputs": [],
   "source": [
    "dta.to_csv('./data/data_dump.csv', encoding='utf-8', index=False)"
   ]
  }
 ],
 "metadata": {
  "kernelspec": {
   "display_name": "Python 3",
   "language": "python",
   "name": "python3"
  },
  "language_info": {
   "codemirror_mode": {
    "name": "ipython",
    "version": 3
   },
   "file_extension": ".py",
   "mimetype": "text/x-python",
   "name": "python",
   "nbconvert_exporter": "python",
   "pygments_lexer": "ipython3",
   "version": "3.6.3"
  }
 },
 "nbformat": 4,
 "nbformat_minor": 2
}
