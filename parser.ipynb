{
 "cells": [
  {
   "cell_type": "code",
   "execution_count": 94,
   "metadata": {},
   "outputs": [],
   "source": [
    "import os\n",
    "from bs4 import BeautifulSoup\n",
    "import re\n",
    "import pandas as pd"
   ]
  },
  {
   "cell_type": "code",
   "execution_count": 95,
   "metadata": {},
   "outputs": [],
   "source": [
    "def unfuck(raw_html):\n",
    "    raw_html = str(raw_html)\n",
    "    cleanr = re.compile('<.*?>')\n",
    "    cleantext = re.sub(cleanr, ' ', raw_html)\n",
    "    return cleantext.replace('\\t', '').replace('\\n', '').strip(' ')"
   ]
  },
  {
   "cell_type": "code",
   "execution_count": 99,
   "metadata": {},
   "outputs": [],
   "source": [
    "predmety = {\n",
    "    \"AJ\": \"Anglický jazyk\",\n",
    "    \"CJ\": \"Český jazyk a literatura\",\n",
    "    \"FJ\": \"Francouzský jazyk\",\n",
    "    \"MA\": \"Matematika\",\n",
    "    \"NJ\": \"Německý jazyk\",\n",
    "    \"RJ\": \"Ruský jazyk\",\n",
    "    \"SJ\": \"Španělský jazyk\"\n",
    "}\n",
    "\n",
    "typ = {\n",
    "    \"DT\": \"Didaktický test\",\n",
    "    \"PP\": \"Písemná práce\",\n",
    "    \"UZ\": \"Ústní zkouška\"\n",
    "}\n",
    "    \n",
    "obory = {\n",
    "    \"GY4\": \"Gymnázium 4 leté\",\n",
    "    \"GY6\": \"Gymnázium 6 leté\",\n",
    "    \"GY8\": \"Gymnázium 8 leté\",\n",
    "    \"LYC\": \"Lyceum\",\n",
    "    \"S-EK\": \"SOŠ ekonomické\",\n",
    "    \"S-HP\": \"SOŠ hotelové a podnikatelské\",\n",
    "    \"S-HU\": \"SOŠ pedagogické a humanitní\",\n",
    "    \"S-T1\": \"SOŠ technické 1\",\n",
    "    \"S-T2\": \"SOŠ technické 2\",\n",
    "    \"S-UM\": \"SOŠ umělecké\",\n",
    "    \"S-ZD\": \"SOŠ zdravotnické\",\n",
    "    \"S-ZE\": \"SOŠ zemědělské\",\n",
    "    \"U-OS\": \"SOU ostatní\",\n",
    "    \"N-OS\": \"SOU ostatní (nástavby)\",\n",
    "    \"U-TE\": \"SOU technické\",\n",
    "    \"N-TE\": \"SOU technické (nástavby)\"\n",
    "}"
   ]
  },
  {
   "cell_type": "code",
   "execution_count": 110,
   "metadata": {},
   "outputs": [],
   "source": [
    "out = []\n",
    "for file in os.listdir('./scratch/'):\n",
    "    soup = BeautifulSoup(open('./scratch/' + file, encoding='utf-8'), 'html.parser')\n",
    "    f = file.split('_')\n",
    "    rok = f[0]\n",
    "    predmet = predmety[f[1]]\n",
    "    zkouska = typ[f[2]]\n",
    "    skola_obor = obory[f[3].split('.')[0]]\n",
    "    \n",
    "    ks = ['tmp', 'REDIZO', 'nazev', 'typ']\n",
    "    keys = list(map(unfuck, soup.find('thead').find_all('th')[2:]))\n",
    "    ks.extend(keys)\n",
    "    for row in soup.find_all('tr'):\n",
    "        x = row.find('td', text=re.compile('REDIZO'))\n",
    "        if x != None:\n",
    "            tmp = []\n",
    "            rw = x.parent.find_all('td')\n",
    "            for r in rw:\n",
    "                tmp.append(r.text)\n",
    "            d = dict(zip(ks, tmp))\n",
    "            d.update({\n",
    "                'rok': rok,\n",
    "                'predmet': predmet,\n",
    "                'typ_zkousky': zkouska,\n",
    "                'skola_obor': skola_obor\n",
    "            })\n",
    "            out.append(d)"
   ]
  },
  {
   "cell_type": "code",
   "execution_count": 111,
   "metadata": {},
   "outputs": [],
   "source": [
    "dta = pd.DataFrame.from_dict(out)"
   ]
  },
  {
   "cell_type": "code",
   "execution_count": 112,
   "metadata": {},
   "outputs": [],
   "source": [
    "def nabodenicka_pdp(val):\n",
    "    return val.replace(',', '.')"
   ]
  },
  {
   "cell_type": "code",
   "execution_count": 113,
   "metadata": {},
   "outputs": [],
   "source": [
    "dta = dta.applymap(nabodenicka_pdp)"
   ]
  },
  {
   "cell_type": "code",
   "execution_count": 114,
   "metadata": {},
   "outputs": [],
   "source": [
    "ne = ['nazev', 'tmp', 'typ', 'rok', 'predmet', 'typ_zkousky', 'skola_obor']\n",
    "for col in dta.columns:\n",
    "    if col not in  ne:\n",
    "        dta[col] = pd.to_numeric(dta[col], errors = 'coerce')"
   ]
  },
  {
   "cell_type": "code",
   "execution_count": 115,
   "metadata": {},
   "outputs": [],
   "source": [
    "dta.drop_duplicates(inplace=True)"
   ]
  },
  {
   "cell_type": "code",
   "execution_count": 116,
   "metadata": {},
   "outputs": [],
   "source": [
    "dta.to_csv('./data/data_dump.csv', encoding='utf-8', index=False)"
   ]
  }
 ],
 "metadata": {
  "kernelspec": {
   "display_name": "Python 3",
   "language": "python",
   "name": "python3"
  },
  "language_info": {
   "codemirror_mode": {
    "name": "ipython",
    "version": 3
   },
   "file_extension": ".py",
   "mimetype": "text/x-python",
   "name": "python",
   "nbconvert_exporter": "python",
   "pygments_lexer": "ipython3",
   "version": "3.6.3"
  }
 },
 "nbformat": 4,
 "nbformat_minor": 2
}
