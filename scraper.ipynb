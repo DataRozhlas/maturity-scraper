{
 "cells": [
  {
   "cell_type": "code",
   "execution_count": 1,
   "metadata": {},
   "outputs": [],
   "source": [
    "import requests"
   ]
  },
  {
   "cell_type": "code",
   "execution_count": 26,
   "metadata": {},
   "outputs": [],
   "source": [
    "cookies = {\n",
    "    'ASP.NET_SessionId': 'b1je3wz4oxxsdnirbtm1lt0r',\n",
    "    'ARRAffinity': 'd7a068169e2ceddba7f88f23bede1ae54d01fcfbe3ef701b69c38f073c92f5ec',\n",
    "    'TS01ef5b53': '0137e65d251fe14742859e8f85b53760ad0302fff4dc60274ffa473f5f81f99ec8c8b66f2a588a30bc16ec703fe30f5b267d0d0ff49454accd593e0ece2cf6e09acc44a9f6',\n",
    "    'TS013c0c8a': '0137e65d2575109d4621b2ac4585524e7b0c4d90d75bad1b18ef24f53a080c9cbf05d22562a2865b6699f12fa22f786eab59caff346faed5d5d69506cad9aba0b9740d105e',\n",
    "}\n",
    "\n",
    "headers = {\n",
    "    'Pragma': 'no-cache',\n",
    "    'Origin': 'https://vysledky.cermat.cz',\n",
    "    'Accept-Encoding': 'gzip, deflate, br',\n",
    "    'Accept-Language': 'cs,en-US;q=0.9,en;q=0.8',\n",
    "    'Upgrade-Insecure-Requests': '1',\n",
    "    'User-Agent': 'Mozilla/5.0 (Windows NT 10.0; Win64; x64) AppleWebKit/537.36 (KHTML, like Gecko) Chrome/65.0.3325.181 Safari/537.36',\n",
    "    'Content-Type': 'application/x-www-form-urlencoded',\n",
    "    'Accept': 'text/html,application/xhtml+xml,application/xml;q=0.9,image/webp,image/apng,*/*;q=0.8',\n",
    "    'Cache-Control': 'no-cache',\n",
    "    'Referer': 'https://vysledky.cermat.cz/data/Default.aspx',\n",
    "    'Connection': 'keep-alive',\n",
    "    'DNT': '1',\n",
    "}"
   ]
  },
  {
   "cell_type": "code",
   "execution_count": 27,
   "metadata": {},
   "outputs": [],
   "source": [
    "roky = range(2013, 2018)\n",
    "\n",
    "predmety = {\n",
    "    \"AJ\": \"Anglický jazyk\",\n",
    "    \"CJ\": \"Český jazyk a literatura\",\n",
    "    \"FJ\": \"Francouzský jazyk\",\n",
    "    \"MA\": \"Matematika\",\n",
    "    \"NJ\": \"Německý jazyk\",\n",
    "    \"RJ\": \"Ruský jazyk\",\n",
    "    \"SJ\": \"Španělský jazyk\"\n",
    "}\n",
    "\n",
    "typ = {\n",
    "    \"DT\": \"Didaktický test\",\n",
    "    \"PP\": \"Písemná práce\",\n",
    "    \"UZ\": \"Ústní zkouška\"\n",
    "}\n",
    "    \n",
    "obory = {\n",
    "    \"GY4\": \"Gymnázium 4 leté\",\n",
    "    \"GY6\": \"Gymnázium 6 leté\",\n",
    "    \"GY8\": \"Gymnázium 8 leté\",\n",
    "    \"LYC\": \"Lyceum\",\n",
    "    \"S-EK\": \"SOŠ ekonomické\",\n",
    "    \"S-HP\": \"SOŠ hotelové a podnikatelské\",\n",
    "    \"S-HU\": \"SOŠ pedagogické a humanitní\",\n",
    "    \"S-T1\": \"SOŠ technické 1\",\n",
    "    \"S-T2\": \"SOŠ technické 2\",\n",
    "    \"S-UM\": \"SOŠ umělecké\",\n",
    "    \"S-ZD\": \"SOŠ zdravotnické\",\n",
    "    \"S-ZE\": \"SOŠ zemědělské\",\n",
    "    \"U-OS\": \"SOU ostatní\",\n",
    "    \"N-OS\": \"SOU ostatní (nástavby)\",\n",
    "    \"U-TE\": \"SOU technické\",\n",
    "    \"N-TE\": \"SOU technické (nástavby)\"\n",
    "}\n"
   ]
  },
  {
   "cell_type": "code",
   "execution_count": 31,
   "metadata": {},
   "outputs": [],
   "source": [
    "for rok in roky:\n",
    "    for predmet in predmety:\n",
    "        for t in typ:\n",
    "            for obor in obory:\n",
    "                data = [\n",
    "                  ('__EVENTTARGET', 'upParametry'),\n",
    "                  ('__EVENTARGUMENT', 'Obor'),\n",
    "                  ('__VIEWSTATE', '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'),\n",
    "                  ('__VIEWSTATEGENERATOR', 'BC53D5C9'),\n",
    "                  ('__VIEWSTATEENCRYPTED', ''),\n",
    "                  ('__EVENTVALIDATION', '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'),\n",
    "                  ('ctl00$LeftContent$ddRok', str(rok)),\n",
    "                  ('ctl00$LeftContent$ddPredmet', predmet),\n",
    "                  ('ctl00$LeftContent$ddDilciZkouska', t),\n",
    "                  ('ctl00$LeftContent$ddObor', obor),\n",
    "                  ('ctl00$LeftContent$ddKraj', ''),\n",
    "                  ('ctl00$LeftContent$ddSkola', ''),\n",
    "                  ('ctl00$LeftContent$txtPodilVolbyPredmetuOd', '0'),\n",
    "                  ('ctl00$LeftContent$txtPodilVolbyPredmetuDo', '100'),\n",
    "                ]\n",
    "\n",
    "                resp = requests.post('https://vysledky.cermat.cz/data/Default.aspx', headers=headers, cookies=cookies, data=data)\n",
    "                \n",
    "                with open('./scratch/' \n",
    "                          + str(rok) \n",
    "                          + '_' + predmet\n",
    "                          + '_' + t\n",
    "                          + '_' + obor\n",
    "                          + '.html', 'w', encoding='utf-8') as f:\n",
    "                    f.write(resp.text)"
   ]
  }
 ],
 "metadata": {
  "kernelspec": {
   "display_name": "Python 3",
   "language": "python",
   "name": "python3"
  },
  "language_info": {
   "codemirror_mode": {
    "name": "ipython",
    "version": 3
   },
   "file_extension": ".py",
   "mimetype": "text/x-python",
   "name": "python",
   "nbconvert_exporter": "python",
   "pygments_lexer": "ipython3",
   "version": "3.6.3"
  }
 },
 "nbformat": 4,
 "nbformat_minor": 2
}
